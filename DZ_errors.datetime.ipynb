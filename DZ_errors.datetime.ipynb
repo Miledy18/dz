{
 "cells": [
  {
   "cell_type": "code",
   "execution_count": 79,
   "metadata": {},
   "outputs": [],
   "source": [
    "from datetime import datetime"
   ]
  },
  {
   "cell_type": "code",
   "execution_count": 34,
   "metadata": {},
   "outputs": [
    {
     "name": "stdout",
     "output_type": "stream",
     "text": [
      "3\n",
      "2002-10-02 00:00:00\n"
     ]
    }
   ],
   "source": [
    "date_datetime = datetime.strptime( 'Wednesday, October 2, 2002', '%A, %B %d, %Y' )\n",
    "print(date_datetime.isoweekday())\n",
    "print(date_datetime)"
   ]
  },
  {
   "cell_type": "code",
   "execution_count": 42,
   "metadata": {},
   "outputs": [
    {
     "name": "stdout",
     "output_type": "stream",
     "text": [
      "5\n",
      "2013-10-11 00:00:00\n"
     ]
    }
   ],
   "source": [
    "date_datetime = datetime.strptime( 'Friday, 11.10.13', '%A, %d.%m.%y' )\n",
    "print(date_datetime.isoweekday())\n",
    "print(date_datetime)"
   ]
  },
  {
   "cell_type": "code",
   "execution_count": 44,
   "metadata": {},
   "outputs": [
    {
     "name": "stdout",
     "output_type": "stream",
     "text": [
      "4\n",
      "1977-08-18 00:00:00\n"
     ]
    }
   ],
   "source": [
    "date_datetime = datetime.strptime( 'Thursday, 18 August 1977', '%A, %d %B %Y' )\n",
    "print(date_datetime.isoweekday())\n",
    "print(date_datetime)"
   ]
  },
  {
   "cell_type": "code",
   "execution_count": 66,
   "metadata": {
    "scrolled": true
   },
   "outputs": [
    {
     "name": "stdout",
     "output_type": "stream",
     "text": [
      "True\n",
      "False\n",
      "True\n",
      "True\n",
      "False\n",
      "True\n"
     ]
    }
   ],
   "source": [
    "def fan_ver():\n",
    "    from datetime import datetime\n",
    "    stream = ['2018-04-02', '2018-02-29', '2018-19-02', '2018-08-02', '2018-13-29', '2018-16-02']\n",
    "    for date in stream:\n",
    "        try:\n",
    "            valid_date = datetime.strptime(date, '%Y-%d-%m')\n",
    "            print('True')\n",
    "        except ValueError:\n",
    "            print('False')\n",
    "        \n",
    "fan_ver()"
   ]
  },
  {
   "cell_type": "code",
   "execution_count": 13,
   "metadata": {},
   "outputs": [
    {
     "name": "stdout",
     "output_type": "stream",
     "text": [
      "Введите начальную дату в формате YYYY-MM-DD 2020-01-01\n",
      "Введите конечную дату в формате YYYY-MM-DD 2020-01-05\n",
      "2020-01-01\n",
      "2020-01-02\n",
      "2020-01-03\n",
      "2020-01-04\n",
      "2020-01-05\n"
     ]
    }
   ],
   "source": [
    "def date_range():\n",
    "    from datetime import datetime\n",
    "    from datetime import timedelta\n",
    "    \n",
    "    start_date = input('Введите начальную дату в формате YYYY-MM-DD ')\n",
    "    try:\n",
    "        format_sd = datetime.strptime(start_date, '%Y-%m-%d')\n",
    "    except ValueError:\n",
    "        print('Формат этой даты некорректен')\n",
    "        return([])\n",
    "    \n",
    "    end_date = input('Введите конечную дату в формате YYYY-MM-DD ')\n",
    "    try:\n",
    "        format_ed = datetime.strptime(end_date, '%Y-%m-%d')\n",
    "    except ValueError:\n",
    "        print('Формат этой даты некорректен')\n",
    "        return([])\n",
    "        \n",
    "    if format_sd >= format_ed:\n",
    "        print('Конечная дата предшествует начальной')\n",
    "        return([])\n",
    "        \n",
    "    date_generated = [format_sd + timedelta(days=x) for x in range(0, (format_ed-format_sd).days + 1)]\n",
    "\n",
    "    for date in date_generated:\n",
    "        print(date.strftime('%Y-%m-%d'))\n",
    "        \n",
    "date_range()        "
   ]
  },
  {
   "cell_type": "code",
   "execution_count": 39,
   "metadata": {},
   "outputs": [
    {
     "name": "stdout",
     "output_type": "stream",
     "text": [
      "A300\n"
     ]
    },
    {
     "data": {
      "text/plain": [
       "['A100', 'A200', 'A300']"
      ]
     },
     "execution_count": 39,
     "metadata": {},
     "output_type": "execute_result"
    }
   ],
   "source": [
    "DEFAULT_USER_COUNT = 4\n",
    "\n",
    "def delete_and_return_last_user(region, default_list=['A100', 'A200', 'A300', 'A400']):\n",
    "    \"\"\"\n",
    "    Удаляет из списка default_list последнего пользователя \n",
    "    и возвращает ID нового последнего пользователя.\n",
    "    \"\"\"\n",
    "    element_to_delete = default_list[-1]\n",
    "    default_list.remove(element_to_delete)\n",
    "    if len(default_list) > 1:\n",
    "        print(default_list[DEFAULT_USER_COUNT-2])\n",
    "    elif len(default_list) == 1: \n",
    "        print(default_list[0])\n",
    "    elif len(default_list) == 0:\n",
    "        print('Элементов больше нет')\n",
    "    return default_list\n",
    "    \n",
    "\n",
    "delete_and_return_last_user(default_list)"
   ]
  },
  {
   "cell_type": "code",
   "execution_count": null,
   "metadata": {},
   "outputs": [],
   "source": [
    "При однократном вызове этой функции все работает корректно:\n",
    "delete_and_return_last_user(1)\n",
    "'A101'\n",
    "\n",
    "Однако, при повторном вызове получается ошибка IndexError: list index out of range.\n",
    "\n",
    "Задание:\n",
    "1. Что значит ошибка list index out of range?\n",
    "2. Почему при первом запуске функция работает корректно, а при втором - нет?\n",
    "\n",
    "КОД НЕМНОГО ДОРАБОТАЛА, ЧТОБЫ ПРИ ЛЮБОЙ ДЛИНЕ ИСХОДНОГО СПИСКА ФУНКЦИЯ РАБОТАЛА КОРРЕКТНО\n",
    "1. ОШИБКА ОЗНАЧАЕТ, ЧТО ЭЛЕМЕНТА С ИСКОМЫМ ИНДЕКСОМ НЕТ В ПОЛУЧЕННОМ СПИСКЕ (ПОСЛЕДОВАТЕЛЬНОСТИ ЭЛЕМЕНТОВ)\n",
    "2. ПОТОМУ КАК ПОСЛЕ УДАЛЕНИЯ 2 ЭЛЕМЕНТОВ ПОСЛЕ 2ГО ЗАПУСКА - ОСТАЕТСЯ СПИСОК ИЗ 1 ЭЛЕМЕНТА,\n",
    "А RETURN ПЫТАЕТСЯ ВЕРНУТЬ В КАЧЕСТВЕ ЗНАЧЕНИЯ ЭЛЕМЕНТ С ССЫЛКОЙ НА НЕУЩЕСТВУЮЩИЙ ИНДЕКС"
   ]
  }
 ],
 "metadata": {
  "kernelspec": {
   "display_name": "Python 3",
   "language": "python",
   "name": "python3"
  }
 },
 "nbformat": 4,
 "nbformat_minor": 4
}
